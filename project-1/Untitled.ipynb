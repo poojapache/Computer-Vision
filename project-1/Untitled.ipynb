{
 "cells": [
  {
   "cell_type": "code",
   "execution_count": 29,
   "metadata": {},
   "outputs": [
    {
     "name": "stdout",
     "output_type": "stream",
     "text": [
      "[[0.00324 0.00334 0.00337 0.00334 0.00324]\n",
      " [0.00334 0.00344 0.00348 0.00344 0.00334]\n",
      " [0.00337 0.00348 0.00351 0.00348 0.00337]\n",
      " [0.00334 0.00344 0.00348 0.00344 0.00334]\n",
      " [0.00324 0.00334 0.00337 0.00334 0.00324]]\n",
      "[[0.00197353 0.00197449 0.00197481 0.00197449 0.00197353]\n",
      " [0.00203488 0.00203586 0.0020362  0.00203586 0.00203488]\n",
      " [0.00205575 0.00205674 0.00205708 0.00205674 0.00205575]\n",
      " [0.00203488 0.00203586 0.0020362  0.00203586 0.00203488]\n",
      " [0.00197353 0.00197449 0.00197481 0.00197449 0.00197353]]\n"
     ]
    }
   ],
   "source": [
    "import numpy as np\n",
    "import math as mp\n",
    "import cv2\n",
    "\n",
    "\n",
    "def test_gaussian_kernel_2D(kernel):\n",
    "    assert kernel.shape == (29, 29), \"The kernel is not the correct size\"\n",
    "\n",
    "    # peak should be at center\n",
    "    gt_kernel_crop = np.array(\n",
    "        [\n",
    "            [0.00324, 0.00334, 0.00337, 0.00334, 0.00324],\n",
    "            [0.00334, 0.00344, 0.00348, 0.00344, 0.00334],\n",
    "            [0.00337, 0.00348, 0.00351, 0.00348, 0.00337],\n",
    "            [0.00334, 0.00344, 0.00348, 0.00344, 0.00334],\n",
    "            [0.00324, 0.00334, 0.00337, 0.00334, 0.00324],\n",
    "        ]\n",
    "    )\n",
    "\n",
    "    kernel_h, kernel_w = kernel.shape\n",
    "    h_center = kernel_h // 2\n",
    "    w_center = kernel_w // 2\n",
    "    student_kernel_crop = kernel[\n",
    "        h_center - 2 : h_center + 3, w_center - 2 : w_center + 3\n",
    "    ]\n",
    "    print(gt_kernel_crop)\n",
    "    print(student_kernel_crop)\n",
    "    \n",
    "#     assert np.allclose(\n",
    "#         gt_kernel_crop, student_kernel_crop, atol=1e-5\n",
    "#     ), \"Values dont match\"\n",
    "#     assert np.allclose(kernel.sum(), 1.0, atol=1e-3)\n",
    "    \n",
    "\n",
    "ksize = 29\n",
    "sigma = 7\n",
    "kernel = np.arange(ksize).reshape(ksize,1)\n",
    "mean = mp.floor(ksize / 2)\n",
    "sum = 0.0\n",
    "# kernel = np.subtract(kernel , mean)\n",
    "# kernel = np.power(kernel,2)\n",
    "# kernel = np.divide(kernel,(2*(sigma*sigma)))\n",
    "# kernel = np.exp(-kernel)\n",
    "# kernel = np.divide(kernel,mp.sqrt(2*np.pi)*sigma)\n",
    "\n",
    "kernel = np.divide(np.exp(-np.divide(np.power(np.subtract(kernel , mean),2),(2*mp.pow(sigma,2)))),mp.sqrt(2*np.pi)*sigma)\n",
    "kernel2 = np.divide(np.exp(-np.divide(np.power(np.subtract(kernel , mean),2),(2*mp.pow(sigma,2)))),mp.sqrt(2*np.pi)*sigma)\n",
    "kernel = np.matmul(kernel,np.transpose(kernel2))\n",
    "kernel /= np.sum(kernel)\n",
    "test_gaussian_kernel_2D(kernel)\n",
    "#kernel = cv2.getGaussianKernel( 29, 7 )\n",
    "#kernel.shape\n",
    "# assert kernel.shape == (29, 1), \"The kernel is not the correct size\"\n",
    "# kernel = kernel.squeeze()\n",
    "\n",
    "# # peak should be at center\n",
    "# gt_kernel_crop = np.array([0.05405, 0.05688, 0.05865, 0.05925, 0.05865, 0.05688, 0.05405])\n",
    "# h_center = ksize // 2\n",
    "# student_kernel_crop = kernel[h_center - 3 : h_center + 4]\n",
    "\n",
    "# # assert np.allclose(gt_kernel_crop, student_kernel_crop, atol=1e-5), \"Values dont match\"\n",
    "# print(gt_kernel_crop)\n",
    "# print(student_kernel_crop)\n",
    "# print(np.allclose(gt_kernel_crop, student_kernel_crop, atol=1e-5))\n",
    "# assert np.allclose(kernel.sum(), 1, atol=1e-3), \"Kernel doesnt sum to 1\"\n"
   ]
  },
  {
   "cell_type": "code",
   "execution_count": 13,
   "metadata": {},
   "outputs": [
    {
     "name": "stdout",
     "output_type": "stream",
     "text": [
      "[[0.00031945703354825666, 0.0023604859420860392, 0.00641646604270551, 0.00641646604270551, 0.0023604859420860392], [0.0023604859420860392, 0.01744176304681091, 0.04741162754643456, 0.04741162754643456, 0.01744176304681091], [0.00641646604270551, 0.04741162754643456, 0.12887816561714138, 0.12887816561714138, 0.04741162754643456], [0.00641646604270551, 0.04741162754643456, 0.12887816561714138, 0.12887816561714138, 0.04741162754643456], [0.0023604859420860392, 0.01744176304681091, 0.04741162754643456, 0.04741162754643456, 0.01744176304681091]]\n",
      "[[0.31916777]\n",
      " [0.36166446]\n",
      " [0.31916777]]\n"
     ]
    }
   ],
   "source": [
    "import math as mp\n",
    "import cv2\n",
    "sigma = 1.0\n",
    "W = 5\n",
    "kernel3 = [[0 for x in range(W)] for y in range(W)] \n",
    "mean = W/2\n",
    "sum = 0.0\n",
    "for x in range(0,W): \n",
    "    for y in range(0,W):\n",
    "        kernel3[x][y] = mp.exp(-0.5 * (mp.pow((x-mean)/sigma, 2.0) + mp.pow((y-mean)/sigma,2.0)) )/ (2 * mp.pi * sigma * sigma);\n",
    "        sum += kernel3[x][y]\n",
    "\n",
    "for x in range(0,W):\n",
    "    for y in range(0,W):\n",
    "        kernel3[x][y] /= sum\n",
    "print(kernel3)\n",
    "kernel3 = cv2.getGaussianKernel( 3, 2 )\n",
    "print(kernel3)\n"
   ]
  },
  {
   "cell_type": "code",
   "execution_count": 8,
   "metadata": {},
   "outputs": [
    {
     "data": {
      "text/plain": [
       "-2.0"
      ]
     },
     "execution_count": 8,
     "metadata": {},
     "output_type": "execute_result"
    }
   ],
   "source": [
    "import numpy as np\n",
    "f = np.array([[10,  7,  4],\n",
    "       [ 3,  2,  1]])\n",
    "g = np.array([[-1,-1,0],[-1,0,-1]])\n",
    "np.median(f*g, axis=(0,1))"
   ]
  },
  {
   "cell_type": "code",
   "execution_count": 1,
   "metadata": {},
   "outputs": [
    {
     "ename": "ModuleNotFoundError",
     "evalue": "No module named 'tensorflow'",
     "output_type": "error",
     "traceback": [
      "\u001b[1;31m---------------------------------------------------------------------------\u001b[0m",
      "\u001b[1;31mModuleNotFoundError\u001b[0m                       Traceback (most recent call last)",
      "\u001b[1;32m<ipython-input-1-c7a1e480bff2>\u001b[0m in \u001b[0;36m<module>\u001b[1;34m()\u001b[0m\n\u001b[0;32m      1\u001b[0m \u001b[1;32mimport\u001b[0m \u001b[0mnumpy\u001b[0m \u001b[1;32mas\u001b[0m \u001b[0mnp\u001b[0m\u001b[1;33m\u001b[0m\u001b[0m\n\u001b[1;32m----> 2\u001b[1;33m \u001b[1;32mfrom\u001b[0m \u001b[0mtensorflow\u001b[0m \u001b[1;32mimport\u001b[0m \u001b[0mkeras\u001b[0m\u001b[1;33m\u001b[0m\u001b[0m\n\u001b[0m\u001b[0;32m      3\u001b[0m \u001b[1;33m\u001b[0m\u001b[0m\n\u001b[0;32m      4\u001b[0m \u001b[1;33m\u001b[0m\u001b[0m\n\u001b[0;32m      5\u001b[0m \u001b[0mmodel\u001b[0m \u001b[1;33m=\u001b[0m \u001b[0mkeras\u001b[0m\u001b[1;33m.\u001b[0m\u001b[0mmodels\u001b[0m\u001b[1;33m.\u001b[0m\u001b[0mSequential\u001b[0m\u001b[1;33m(\u001b[0m\u001b[1;33m)\u001b[0m\u001b[1;33m\u001b[0m\u001b[0m\n",
      "\u001b[1;31mModuleNotFoundError\u001b[0m: No module named 'tensorflow'"
     ]
    }
   ],
   "source": [
    "import numpy as np\n",
    "from tensorflow import keras\n",
    "\n",
    "\n",
    "model = keras.models.Sequential()\n",
    "\n",
    "\n",
    "\n",
    "#here in the snippet below\n",
    "#D = 5 (first parameter)\n",
    "#Stride= (1,1) by default\n",
    "model.add(keras.layers.Conv2D(5, kernel_size=3, activation='relu', input_shape=(32, 32, 3)))\n",
    "model.summary()"
   ]
  }
 ],
 "metadata": {
  "kernelspec": {
   "display_name": "Python 3",
   "language": "python",
   "name": "python3"
  }
 },
 "nbformat": 4,
 "nbformat_minor": 2
}
